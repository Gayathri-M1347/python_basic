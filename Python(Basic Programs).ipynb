{
 "cells": [
  {
   "cell_type": "markdown",
   "id": "72087efc",
   "metadata": {},
   "source": [
    "###### 1. Write Python Programs to use various operators in Python"
   ]
  },
  {
   "cell_type": "markdown",
   "id": "959fb446",
   "metadata": {},
   "source": [
    "###### Arithmetic operators\n"
   ]
  },
  {
   "cell_type": "code",
   "execution_count": 1,
   "id": "8fc74ee3",
   "metadata": {},
   "outputs": [
    {
     "name": "stdout",
     "output_type": "stream",
     "text": [
      "x + y = 19\n",
      "x - y = 11\n",
      "x * y = 60\n",
      "x / y = 3.75\n",
      "x // y = 3\n",
      "x ** y = 50625\n"
     ]
    }
   ],
   "source": [
    "x = 15\n",
    "y = 4\n",
    "\n",
    "# Output: x + y = 19\n",
    "print('x + y =',x+y)\n",
    "\n",
    "# Output: x - y = 11\n",
    "print('x - y =',x-y)\n",
    "\n",
    "# Output: x * y = 60\n",
    "print('x * y =',x*y)\n",
    "\n",
    "# Output: x / y = 3.75\n",
    "print('x / y =',x/y)\n",
    "\n",
    "# Output: x // y = 3\n",
    "print('x // y =',x//y)\n",
    "\n",
    "# Output: x ** y = 50625\n",
    "print('x ** y =',x**y)\n"
   ]
  },
  {
   "cell_type": "markdown",
   "id": "98e55fe1",
   "metadata": {},
   "source": [
    "###### Comparison operators\n"
   ]
  },
  {
   "cell_type": "code",
   "execution_count": 2,
   "id": "79fb6858",
   "metadata": {},
   "outputs": [
    {
     "name": "stdout",
     "output_type": "stream",
     "text": [
      "x > y is False\n",
      "x < y is True\n",
      "x == y is False\n",
      "x != y is True\n",
      "x >= y is False\n",
      "x <= y is True\n"
     ]
    }
   ],
   "source": [
    "x = 10\n",
    "y = 12\n",
    "\n",
    "# Output: x > y is False\n",
    "print('x > y is',x>y)\n",
    "\n",
    "# Output: x < y is True\n",
    "print('x < y is',x<y)\n",
    "\n",
    "# Output: x == y is False\n",
    "print('x == y is',x==y)\n",
    "\n",
    "# Output: x != y is True\n",
    "print('x != y is',x!=y)\n",
    "\n",
    "# Output: x >= y is False\n",
    "print('x >= y is',x>=y)\n",
    "\n",
    "# Output: x <= y is True\n",
    "print('x <= y is',x<=y)\n"
   ]
  },
  {
   "cell_type": "markdown",
   "id": "33f75134",
   "metadata": {},
   "source": [
    "###### Logical operators\n"
   ]
  },
  {
   "cell_type": "code",
   "execution_count": 3,
   "id": "f6fd19f9",
   "metadata": {},
   "outputs": [
    {
     "name": "stdout",
     "output_type": "stream",
     "text": [
      "x and y is False\n",
      "x or y is True\n",
      "not x is False\n"
     ]
    }
   ],
   "source": [
    "x = True\n",
    "y = False\n",
    "\n",
    "print('x and y is',x and y)\n",
    "\n",
    "print('x or y is',x or y)\n",
    "\n",
    "print('not x is',not x)\n"
   ]
  },
  {
   "cell_type": "markdown",
   "id": "c6a90378",
   "metadata": {},
   "source": [
    "###### Identity operators\n"
   ]
  },
  {
   "cell_type": "code",
   "execution_count": 4,
   "id": "4dc7008c",
   "metadata": {},
   "outputs": [
    {
     "name": "stdout",
     "output_type": "stream",
     "text": [
      "False\n",
      "True\n",
      "False\n"
     ]
    }
   ],
   "source": [
    "x1 = 5\n",
    "y1 = 5\n",
    "x2 = 'Hello'\n",
    "y2 = 'Hello'\n",
    "x3 = [1,2,3]\n",
    "y3 = [1,2,3]\n",
    "\n",
    "# Output: False\n",
    "print(x1 is not y1)\n",
    "\n",
    "# Output: True\n",
    "print(x2 is y2)\n",
    "\n",
    "# Output: False\n",
    "print(x3 is y3)\n"
   ]
  },
  {
   "cell_type": "markdown",
   "id": "90bc764d",
   "metadata": {},
   "source": [
    "###### Membership operators\n"
   ]
  },
  {
   "cell_type": "code",
   "execution_count": 5,
   "id": "06c915f4",
   "metadata": {},
   "outputs": [
    {
     "name": "stdout",
     "output_type": "stream",
     "text": [
      "True\n",
      "True\n",
      "True\n",
      "False\n"
     ]
    }
   ],
   "source": [
    "x = 'Hello world'\n",
    "y = {1:'a',2:'b'}\n",
    "\n",
    "# Output: True\n",
    "print('H' in x)\n",
    "\n",
    "# Output: True\n",
    "print('hello' not in x)\n",
    "\n",
    "# Output: True\n",
    "print(1 in y)\n",
    "\n",
    "# Output: False\n",
    "print('a' in y)\n"
   ]
  },
  {
   "cell_type": "markdown",
   "id": "538c1ba7",
   "metadata": {},
   "source": [
    "###### 2. Create list of elements and slice and dice it\n",
    "\n"
   ]
  },
  {
   "cell_type": "code",
   "execution_count": 7,
   "id": "b7b7c97f",
   "metadata": {},
   "outputs": [
    {
     "name": "stdout",
     "output_type": "stream",
     "text": [
      "['hallway', 11.25, 'kitchen', 18.0, 'living room', 20.0]\n",
      "['bedroom', 10.75, 'bathroom', 9.5]\n"
     ]
    }
   ],
   "source": [
    "#my_list[start:end]\n",
    "x = [\"a\", \"b\", \"c\", \"d\"]\n",
    "x[1:3]\n",
    "\n",
    "# Create the areas list\n",
    "areas = [\"hallway\", 11.25, \"kitchen\", 18.0, \"living room\", 20.0, \"bedroom\", 10.75, \"bathroom\", 9.50]\n",
    "\n",
    "# Use slicing to create downstairs\n",
    "downstairs = areas[:6]\n",
    "\n",
    "# Use slicing to create upstairs\n",
    "upstairs = areas[6:]\n",
    "\n",
    "# Print out downstairs and upstairs\n",
    "print(downstairs)\n",
    "print(upstairs)\n"
   ]
  },
  {
   "cell_type": "markdown",
   "id": "54a9279d",
   "metadata": {},
   "source": [
    "###### 3. Using while loop accept numbers until sum of numbers is less than 100\n",
    "\n"
   ]
  },
  {
   "cell_type": "code",
   "execution_count": 13,
   "id": "619a059e",
   "metadata": {},
   "outputs": [
    {
     "data": {
      "text/plain": [
       "5050"
      ]
     },
     "execution_count": 13,
     "metadata": {},
     "output_type": "execute_result"
    }
   ],
   "source": [
    "mySum = 0 \n",
    "num = 1 \n",
    "while num <= 100: \n",
    "    mySum += num \n",
    "    num += 1    \n",
    "mySum\n"
   ]
  },
  {
   "cell_type": "markdown",
   "id": "8f36fa07",
   "metadata": {},
   "source": [
    "###### 4. Write a python program Read & write Excel files \n",
    "\n"
   ]
  },
  {
   "cell_type": "markdown",
   "id": "0792e550",
   "metadata": {},
   "source": [
    "###### Creating new file"
   ]
  },
  {
   "cell_type": "code",
   "execution_count": 15,
   "id": "b7b0ecb4",
   "metadata": {},
   "outputs": [],
   "source": [
    "from openpyxl import Workbook\n",
    "import time\n",
    "\n",
    "book = Workbook()\n",
    "sheet = book.active\n",
    "\n",
    "sheet['A1'] = 56\n",
    "sheet['A2'] = 43\n",
    "\n",
    "now = time.strftime(\"%x\")\n",
    "sheet['A3'] = now\n",
    "\n",
    "book.save(\"E:\\DA (assignment)\\\\sample.xlsx\")\n"
   ]
  },
  {
   "cell_type": "markdown",
   "id": "ce6ca2ae",
   "metadata": {},
   "source": [
    "##### Writing a file"
   ]
  },
  {
   "cell_type": "code",
   "execution_count": 19,
   "id": "be08e41b",
   "metadata": {},
   "outputs": [],
   "source": [
    "#from openpyxl import Workbook\n",
    "\n",
    "#book = Workbook()\n",
    "#sheet = book.active\n",
    "\n",
    "sheet['A1'] = 1\n",
    "sheet.cell(row=2, column=2).value = 2\n",
    "\n",
    "book.save('E:\\DA (assignment)\\\\write2cell.xlsx')\n"
   ]
  },
  {
   "cell_type": "markdown",
   "id": "26da9ab9",
   "metadata": {},
   "source": [
    "###### Reading a file"
   ]
  },
  {
   "cell_type": "code",
   "execution_count": 20,
   "id": "a82e63a4",
   "metadata": {},
   "outputs": [
    {
     "name": "stdout",
     "output_type": "stream",
     "text": [
      "56\n",
      "43\n",
      "03/21/22\n"
     ]
    }
   ],
   "source": [
    "import openpyxl\n",
    "\n",
    "book = openpyxl.load_workbook('E:\\DA (assignment)\\\\sample.xlsx')\n",
    "\n",
    "sheet = book.active\n",
    "\n",
    "a1 = sheet['A1']\n",
    "a2 = sheet['A2']\n",
    "a3 = sheet.cell(row=3, column=1)\n",
    "\n",
    "print(a1.value)\n",
    "print(a2.value) \n",
    "print(a3.value)\n"
   ]
  },
  {
   "cell_type": "markdown",
   "id": "3cea4b06",
   "metadata": {},
   "source": [
    "###### 6. Create a 3x3 matrix with values ranging from 2 to 10 using numpy\n",
    "\n"
   ]
  },
  {
   "cell_type": "code",
   "execution_count": 29,
   "id": "4382a8e1",
   "metadata": {},
   "outputs": [
    {
     "name": "stdout",
     "output_type": "stream",
     "text": [
      "[[ 2  3  4]\n",
      " [ 5  6  7]\n",
      " [ 8  9 10]]\n"
     ]
    }
   ],
   "source": [
    "import numpy as np\n",
    "x =  np.arange(2, 11).reshape(3,3)\n",
    "print(x)\n"
   ]
  },
  {
   "cell_type": "markdown",
   "id": "8b1cd03f",
   "metadata": {},
   "source": [
    "###### 7. Write a Python program to convert a list of numeric value into a one-dimensional NumPy array\n",
    "\n"
   ]
  },
  {
   "cell_type": "code",
   "execution_count": 30,
   "id": "4cb66ac7",
   "metadata": {},
   "outputs": [
    {
     "name": "stdout",
     "output_type": "stream",
     "text": [
      "Original List: [12.23, 13.32, 100, 36.32]\n",
      "One-dimensional NumPy array:  [ 12.23  13.32 100.    36.32]\n"
     ]
    }
   ],
   "source": [
    "import numpy as np\n",
    "l = [12.23, 13.32, 100, 36.32]\n",
    "print(\"Original List:\",l)\n",
    "a = np.array(l)\n",
    "print(\"One-dimensional NumPy array: \",a)\n"
   ]
  },
  {
   "cell_type": "code",
   "execution_count": null,
   "id": "d32d46b5",
   "metadata": {},
   "outputs": [],
   "source": []
  },
  {
   "cell_type": "code",
   "execution_count": null,
   "id": "73e37edb",
   "metadata": {},
   "outputs": [],
   "source": []
  }
 ],
 "metadata": {
  "kernelspec": {
   "display_name": "Python 3",
   "language": "python",
   "name": "python3"
  },
  "language_info": {
   "codemirror_mode": {
    "name": "ipython",
    "version": 3
   },
   "file_extension": ".py",
   "mimetype": "text/x-python",
   "name": "python",
   "nbconvert_exporter": "python",
   "pygments_lexer": "ipython3",
   "version": "3.8.8"
  }
 },
 "nbformat": 4,
 "nbformat_minor": 5
}
